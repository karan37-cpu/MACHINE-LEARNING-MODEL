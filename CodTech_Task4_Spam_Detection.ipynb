{
 "cells": [
  {
   "cell_type": "markdown",
   "id": "32d09481",
   "metadata": {},
   "source": [
    "# CodTech Internship – Task 4\n",
    "\n",
    "## Spam Email Detection using Scikit-learn"
   ]
  },
  {
   "cell_type": "markdown",
   "id": "f8dd6a76",
   "metadata": {},
   "source": [
    "### Objective\n",
    "Build and evaluate a machine learning model to classify SMS messages as spam or not spam."
   ]
  },
  {
   "cell_type": "code",
   "execution_count": null,
   "id": "18d2020f",
   "metadata": {},
   "outputs": [],
   "source": [
    "import pandas as pd\n",
    "from sklearn.model_selection import train_test_split\n",
    "from sklearn.feature_extraction.text import CountVectorizer\n",
    "from sklearn.naive_bayes import MultinomialNB\n",
    "from sklearn.metrics import classification_report, confusion_matrix, accuracy_score"
   ]
  },
  {
   "cell_type": "code",
   "execution_count": null,
   "id": "70bf1adf",
   "metadata": {},
   "outputs": [],
   "source": [
    "df = pd.read_csv('spam.csv', encoding='latin-1')\n",
    "df = df[['v1', 'v2']]\n",
    "df.columns = ['label', 'message']\n",
    "df.head()"
   ]
  },
  {
   "cell_type": "code",
   "execution_count": null,
   "id": "4bf89d2c",
   "metadata": {},
   "outputs": [],
   "source": [
    "df['label_num'] = df.label.map({'ham': 0, 'spam': 1})\n",
    "\n",
    "vectorizer = CountVectorizer()\n",
    "X = vectorizer.fit_transform(df['message'])\n",
    "y = df['label_num']"
   ]
  },
  {
   "cell_type": "code",
   "execution_count": null,
   "id": "a12e9c00",
   "metadata": {},
   "outputs": [],
   "source": [
    "X_train, X_test, y_train, y_test = train_test_split(X, y, test_size=0.2, random_state=42)"
   ]
  },
  {
   "cell_type": "code",
   "execution_count": null,
   "id": "f870ac39",
   "metadata": {},
   "outputs": [],
   "source": [
    "model = MultinomialNB()\n",
    "model.fit(X_train, y_train)"
   ]
  },
  {
   "cell_type": "code",
   "execution_count": null,
   "id": "c0bf54d4",
   "metadata": {},
   "outputs": [],
   "source": [
    "y_pred = model.predict(X_test)\n",
    "print(\"Accuracy Score:\", accuracy_score(y_test, y_pred))\n",
    "print(\"\\nConfusion Matrix:\\n\", confusion_matrix(y_test, y_pred))\n",
    "print(\"\\nClassification Report:\\n\", classification_report(y_test, y_pred))"
   ]
  },
  {
   "cell_type": "markdown",
   "id": "c2d85dd1",
   "metadata": {},
   "source": [
    "### Conclusion\n",
    "The model successfully classifies SMS messages with good accuracy. You can enhance it using techniques like TF-IDF, stemming, lemmatization, or by testing different algorithms."
   ]
  }
 ],
 "metadata": {},
 "nbformat": 4,
 "nbformat_minor": 5
}
